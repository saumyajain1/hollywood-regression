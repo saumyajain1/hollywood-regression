{
 "cells": [
  {
   "cell_type": "code",
   "execution_count": 1,
   "id": "3fd1dcc7-9c38-4557-8864-5ec4806ab629",
   "metadata": {},
   "outputs": [
    {
     "name": "stderr",
     "output_type": "stream",
     "text": [
      "Installing package into ‘/home/jupyter/R/x86_64-pc-linux-gnu-library/4.3’\n",
      "(as ‘lib’ is unspecified)\n",
      "\n"
     ]
    }
   ],
   "source": [
    "install.packages(\"leaps\")"
   ]
  },
  {
   "cell_type": "code",
   "execution_count": 2,
   "id": "2cdc28c3-5e5f-474f-896f-040d106d0fc8",
   "metadata": {},
   "outputs": [
    {
     "name": "stderr",
     "output_type": "stream",
     "text": [
      "── \u001b[1mAttaching core tidyverse packages\u001b[22m ──────────────────────── tidyverse 2.0.0 ──\n",
      "\u001b[32m✔\u001b[39m \u001b[34mdplyr    \u001b[39m 1.1.2     \u001b[32m✔\u001b[39m \u001b[34mreadr    \u001b[39m 2.1.4\n",
      "\u001b[32m✔\u001b[39m \u001b[34mforcats  \u001b[39m 1.0.0     \u001b[32m✔\u001b[39m \u001b[34mstringr  \u001b[39m 1.5.0\n",
      "\u001b[32m✔\u001b[39m \u001b[34mlubridate\u001b[39m 1.9.2     \u001b[32m✔\u001b[39m \u001b[34mtibble   \u001b[39m 3.2.1\n",
      "\u001b[32m✔\u001b[39m \u001b[34mpurrr    \u001b[39m 1.0.1     \u001b[32m✔\u001b[39m \u001b[34mtidyr    \u001b[39m 1.3.0\n",
      "── \u001b[1mConflicts\u001b[22m ────────────────────────────────────────── tidyverse_conflicts() ──\n",
      "\u001b[31m✖\u001b[39m \u001b[34mdplyr\u001b[39m::\u001b[32mfilter()\u001b[39m masks \u001b[34mstats\u001b[39m::filter()\n",
      "\u001b[31m✖\u001b[39m \u001b[34mdplyr\u001b[39m::\u001b[32mlag()\u001b[39m    masks \u001b[34mstats\u001b[39m::lag()\n",
      "\u001b[36mℹ\u001b[39m Use the conflicted package (\u001b[3m\u001b[34m<http://conflicted.r-lib.org/>\u001b[39m\u001b[23m) to force all conflicts to become errors\n"
     ]
    }
   ],
   "source": [
    "library(ggplot2)\n",
    "library(tidyverse)\n",
    "library(leaps)"
   ]
  },
  {
   "cell_type": "code",
   "execution_count": 3,
   "id": "c3d7cbff-a3b2-4ec1-88f2-f7542e7d7549",
   "metadata": {},
   "outputs": [],
   "source": [
    "df0 = read.table(\"./data/data.csv\", sep = \",\", header=TRUE)"
   ]
  },
  {
   "cell_type": "code",
   "execution_count": 4,
   "id": "f60f6c63-d700-4e38-8610-2bd20999fe82",
   "metadata": {},
   "outputs": [
    {
     "ename": "ERROR",
     "evalue": "Error: object 'df1' not found\n",
     "output_type": "error",
     "traceback": [
      "Error: object 'df1' not found\nTraceback:\n"
     ]
    }
   ],
   "source": [
    "# drop variables we don't use\n",
    "df = df0 |> select(-Release.Date..US., -Oscar.Detail, -X..of.Gross.earned.abroad)\n",
    "colnames(df1) = c(\"film\", \"year\", \"rt_cr\", \"meta_cr\", \"rt_au\", \"meta_au\", \"pr_genre\", \"op_weekend\", \"domestic_gross\", \"foreign_gross\", \"world_gross\", \"budget\", \"oscar\", \"distr\", \"imdb\")\n",
    "df = df |> select(-film, -foreign_gross, -world_gross)\n",
    "df <- na.omit(df)"
   ]
  },
  {
   "cell_type": "code",
   "execution_count": null,
   "id": "c5207a7d-9bad-4dac-9570-6ca9d79a579e",
   "metadata": {},
   "outputs": [],
   "source": [
    "df |> group_by(distr) |>\n",
    "summarize(mean = mean(domestic_gross)) |>\n",
    "arrange(desc(mean))\n",
    "\n",
    "table(df$distr)\n",
    "\n",
    "#Based on this, we choose these as the primary distributors and let the others be \"Other\"\n",
    "#c(\"Walt Disney Studios Motion Pictures\", \"Paramount Pictures\", \"Warner Bros. Pictures\", \"Universal Pictures\", \"Sony Pictures\")"
   ]
  },
  {
   "cell_type": "code",
   "execution_count": null,
   "id": "b7e1c803-f8cb-465a-b0c6-63087d8370f2",
   "metadata": {},
   "outputs": [],
   "source": [
    "df$oscar <- ifelse(df$oscar == \"\", \"Not Oscar Winner\", df$oscar)\n",
    "df$distr <- ifelse(df$distr %in% c(\"Walt Disney Studios Motion Pictures\", \"Paramount Pictures\", \"Warner Bros. Pictures\", \"Universal Pictures\", \"Sony Pictures\"), df$distr, \"Other\")"
   ]
  },
  {
   "cell_type": "code",
   "execution_count": null,
   "id": "d91a5902-6fb1-4d46-b29b-770e33bac710",
   "metadata": {},
   "outputs": [],
   "source": [
    "df$year <- as.factor(df$year)\n",
    "df$oscar <- as.factor(df$oscar)\n",
    "df$pr_genre <- as.factor(df$pr_genre)\n",
    "df$distr <- as.factor(df$distr)"
   ]
  },
  {
   "cell_type": "code",
   "execution_count": null,
   "id": "83b6f587-9e05-4f3b-9113-e2adac6d4463",
   "metadata": {},
   "outputs": [],
   "source": [
    "head(df)"
   ]
  }
 ],
 "metadata": {
  "kernelspec": {
   "display_name": "R",
   "language": "R",
   "name": "ir"
  },
  "language_info": {
   "codemirror_mode": "r",
   "file_extension": ".r",
   "mimetype": "text/x-r-source",
   "name": "R",
   "pygments_lexer": "r",
   "version": "4.3.0"
  }
 },
 "nbformat": 4,
 "nbformat_minor": 5
}
